{
 "cells": [
  {
   "cell_type": "markdown",
   "id": "666d57a5",
   "metadata": {},
   "source": [
    "# Machine Learning Project: Predict weight using Linear Regression\n"
   ]
  },
  {
   "cell_type": "markdown",
   "id": "986ac73a",
   "metadata": {},
   "source": [
    "### I came across this dataset that list the height and weight of people. I found this dataset name[Height_Weight_single_variable_data_101_series_1].In this project, we have to train our model on this data and then make a new weight prediction of the person given his height."
   ]
  },
  {
   "cell_type": "code",
   "execution_count": null,
   "id": "f340ab49",
   "metadata": {},
   "outputs": [],
   "source": []
  },
  {
   "cell_type": "code",
   "execution_count": 1,
   "id": "5d7395a8",
   "metadata": {},
   "outputs": [],
   "source": [
    "#importing liabraries\n",
    "import pandas as pd\n",
    "import numpy as np"
   ]
  },
  {
   "cell_type": "code",
   "execution_count": 2,
   "id": "062e90e9",
   "metadata": {},
   "outputs": [],
   "source": [
    "#importing dataset\n",
    "df=pd.read_csv(\"C:/Users/91708/Desktop/Height_Weight_single_variable_data_101_series_1.0.csv\")"
   ]
  },
  {
   "cell_type": "code",
   "execution_count": 3,
   "id": "b0cf85d4",
   "metadata": {},
   "outputs": [],
   "source": [
    "#definnig target variable\n",
    "X = df.iloc[:, :-1].values\n",
    "Y = df.iloc[:, 1].values"
   ]
  },
  {
   "cell_type": "code",
   "execution_count": 4,
   "id": "b36230a7",
   "metadata": {},
   "outputs": [
    {
     "name": "stdout",
     "output_type": "stream",
     "text": [
      "<class 'pandas.core.frame.DataFrame'>\n",
      "RangeIndex: 35 entries, 0 to 34\n",
      "Data columns (total 2 columns):\n",
      " #   Column  Non-Null Count  Dtype  \n",
      "---  ------  --------------  -----  \n",
      " 0   Weight  35 non-null     float64\n",
      " 1   Height  35 non-null     float64\n",
      "dtypes: float64(2)\n",
      "memory usage: 688.0 bytes\n"
     ]
    }
   ],
   "source": [
    "#Performing some basic EDA to understand data\n",
    "df.info()"
   ]
  },
  {
   "cell_type": "code",
   "execution_count": 5,
   "id": "db764c6a",
   "metadata": {},
   "outputs": [
    {
     "data": {
      "text/plain": [
       "(35, 2)"
      ]
     },
     "execution_count": 5,
     "metadata": {},
     "output_type": "execute_result"
    }
   ],
   "source": [
    "df.shape"
   ]
  },
  {
   "cell_type": "code",
   "execution_count": 6,
   "id": "67422f70",
   "metadata": {},
   "outputs": [
    {
     "data": {
      "text/html": [
       "<div>\n",
       "<style scoped>\n",
       "    .dataframe tbody tr th:only-of-type {\n",
       "        vertical-align: middle;\n",
       "    }\n",
       "\n",
       "    .dataframe tbody tr th {\n",
       "        vertical-align: top;\n",
       "    }\n",
       "\n",
       "    .dataframe thead th {\n",
       "        text-align: right;\n",
       "    }\n",
       "</style>\n",
       "<table border=\"1\" class=\"dataframe\">\n",
       "  <thead>\n",
       "    <tr style=\"text-align: right;\">\n",
       "      <th></th>\n",
       "      <th>Weight</th>\n",
       "      <th>Height</th>\n",
       "    </tr>\n",
       "  </thead>\n",
       "  <tbody>\n",
       "    <tr>\n",
       "      <th>0</th>\n",
       "      <td>28.0</td>\n",
       "      <td>121.92</td>\n",
       "    </tr>\n",
       "    <tr>\n",
       "      <th>1</th>\n",
       "      <td>28.1</td>\n",
       "      <td>124.46</td>\n",
       "    </tr>\n",
       "    <tr>\n",
       "      <th>2</th>\n",
       "      <td>28.2</td>\n",
       "      <td>127.00</td>\n",
       "    </tr>\n",
       "    <tr>\n",
       "      <th>3</th>\n",
       "      <td>28.3</td>\n",
       "      <td>129.54</td>\n",
       "    </tr>\n",
       "    <tr>\n",
       "      <th>4</th>\n",
       "      <td>28.4</td>\n",
       "      <td>132.08</td>\n",
       "    </tr>\n",
       "  </tbody>\n",
       "</table>\n",
       "</div>"
      ],
      "text/plain": [
       "   Weight  Height\n",
       "0    28.0  121.92\n",
       "1    28.1  124.46\n",
       "2    28.2  127.00\n",
       "3    28.3  129.54\n",
       "4    28.4  132.08"
      ]
     },
     "execution_count": 6,
     "metadata": {},
     "output_type": "execute_result"
    }
   ],
   "source": [
    "df.head()"
   ]
  },
  {
   "cell_type": "code",
   "execution_count": 7,
   "id": "2c2ce42a",
   "metadata": {},
   "outputs": [
    {
     "data": {
      "text/plain": [
       "Weight    0\n",
       "Height    0\n",
       "dtype: int64"
      ]
     },
     "execution_count": 7,
     "metadata": {},
     "output_type": "execute_result"
    }
   ],
   "source": [
    "df.isnull().sum()  # Check for missing values"
   ]
  },
  {
   "cell_type": "code",
   "execution_count": 8,
   "id": "fa8abc12",
   "metadata": {},
   "outputs": [],
   "source": [
    "#Split dataset into training set and test set\n",
    "#There are 35 entries in the dataset. Let’s take 20% of data as test data."
   ]
  },
  {
   "cell_type": "code",
   "execution_count": 9,
   "id": "04bcffb7",
   "metadata": {},
   "outputs": [],
   "source": [
    "from sklearn.model_selection import train_test_split\n",
    "X_train,X_test,Y_train,Y_test=train_test_split(X,Y,test_size=0.2, random_state=0)"
   ]
  },
  {
   "cell_type": "markdown",
   "id": "706cfb7a",
   "metadata": {},
   "source": [
    "### Fit Regression Model\n",
    "We will first fit the Regression Model and see how good it fits the data. If the performance is not good —\n",
    "then we can experiment with other Regression Models."
   ]
  },
  {
   "cell_type": "code",
   "execution_count": 10,
   "id": "0f8e7184",
   "metadata": {},
   "outputs": [
    {
     "data": {
      "text/plain": [
       "LinearRegression()"
      ]
     },
     "execution_count": 10,
     "metadata": {},
     "output_type": "execute_result"
    }
   ],
   "source": [
    "#Fit Linear Regression Model\n",
    "from sklearn.linear_model import LinearRegression\n",
    "lin_reg = LinearRegression()\n",
    "lin_reg.fit(X_train, Y_train)\n"
   ]
  },
  {
   "cell_type": "code",
   "execution_count": 11,
   "id": "d894d427",
   "metadata": {},
   "outputs": [
    {
     "data": {
      "text/plain": [
       "array([195.79170606, 172.24843663, 161.98066714, 192.99140529,\n",
       "       177.43417879, 159.59522574, 146.42344064])"
      ]
     },
     "execution_count": 11,
     "metadata": {},
     "output_type": "execute_result"
    }
   ],
   "source": [
    "lin_pred = lin_reg.predict(X_test)\n",
    "lin_pred"
   ]
  },
  {
   "cell_type": "code",
   "execution_count": 12,
   "id": "990a47af",
   "metadata": {},
   "outputs": [
    {
     "data": {
      "text/plain": [
       "array([195.58, 172.72, 162.56, 193.04, 177.8 , 160.02, 147.32])"
      ]
     },
     "execution_count": 12,
     "metadata": {},
     "output_type": "execute_result"
    }
   ],
   "source": [
    "Y_test"
   ]
  },
  {
   "cell_type": "markdown",
   "id": "20111482",
   "metadata": {},
   "source": [
    "# Evaluate performance of the Model\n"
   ]
  },
  {
   "cell_type": "markdown",
   "id": "57a97e5e",
   "metadata": {},
   "source": [
    "As we see from output that our predicted values are very close to the real values."
   ]
  },
  {
   "cell_type": "markdown",
   "id": "6e0ac12f",
   "metadata": {},
   "source": [
    "After we fit the model, we have to evaluate how well the model fits the data. \n",
    "For this purpose, we will look at “R squared” and Mean Squared Error."
   ]
  },
  {
   "cell_type": "markdown",
   "id": "14db09f5",
   "metadata": {},
   "source": [
    "# “R Squared”:\n",
    "This value is between 0 and 1 i.e. between 0% and 100%. Generally speaking, in most cases — the closer it is to 1 — the better — 1 means perfect correlation. \n",
    "So if it is 1 (or 100%), the two variables are perfectly correlated"
   ]
  },
  {
   "cell_type": "code",
   "execution_count": 13,
   "id": "a6df49a8",
   "metadata": {},
   "outputs": [
    {
     "name": "stdout",
     "output_type": "stream",
     "text": [
      "R square =  0.9990789472665881\n"
     ]
    }
   ],
   "source": [
    "from sklearn import metrics\n",
    "print('R square = ',metrics.r2_score(Y_test, lin_pred))"
   ]
  },
  {
   "cell_type": "markdown",
   "id": "685b3415",
   "metadata": {},
   "source": [
    "# Mean Squared Error (MSE): \n"
   ]
  },
  {
   "cell_type": "markdown",
   "id": "919638cb",
   "metadata": {},
   "source": [
    "This is the average of the square of errors. Error here implies the difference between the actual values and predicted values. We square each difference.\n",
    "So if mean squared error is large, it means the error is large. The lower the value, the better the model. \n",
    "We can use the MSE value in selecting one model over the other."
   ]
  },
  {
   "cell_type": "code",
   "execution_count": 14,
   "id": "931cbd53",
   "metadata": {},
   "outputs": [
    {
     "name": "stdout",
     "output_type": "stream",
     "text": [
      "Mean squared Error =  0.24617950090219523\n"
     ]
    }
   ],
   "source": [
    "print('Mean squared Error = ',metrics.mean_squared_error(Y_test, lin_pred))"
   ]
  },
  {
   "cell_type": "markdown",
   "id": "70e3653f",
   "metadata": {},
   "source": [
    "We can see from the output below that R square is 0.99 that is 99% which is very good and mean squared error is also low."
   ]
  },
  {
   "cell_type": "markdown",
   "id": "c446e8c1",
   "metadata": {},
   "source": [
    "# Visualize the training set"
   ]
  },
  {
   "cell_type": "code",
   "execution_count": 15,
   "id": "b77ff0df",
   "metadata": {},
   "outputs": [
    {
     "data": {
      "image/png": "[encoded data removed]",
      "text/plain": [
       "<Figure size 640x480 with 1 Axes>"
      ]
     },
     "metadata": {},
     "output_type": "display_data"
    }
   ],
   "source": [
    "#Visualize Training set\n",
    "import matplotlib.pyplot as plt\n",
    "plt.scatter(X_train, Y_train, color=\"red\")\n",
    "plt.plot(X_train, lin_reg.predict(X_train), color=\"blue\" )\n",
    "plt.title(\"Height and Weight - Training Set\")\n",
    "plt.xlabel(\"Height\")\n",
    "plt.ylabel(\"Weight\")\n",
    "plt.show()"
   ]
  },
  {
   "cell_type": "markdown",
   "id": "c89cb265",
   "metadata": {},
   "source": [
    "### We can see from the graph that apart from the few points at the bottom, the regression line fits other points pretty well."
   ]
  },
  {
   "cell_type": "markdown",
   "id": "4c060fcf",
   "metadata": {},
   "source": [
    "# Visualize the test set"
   ]
  },
  {
   "cell_type": "code",
   "execution_count": 16,
   "id": "0a7b536d",
   "metadata": {},
   "outputs": [
    {
     "data": {
      "image/png": "[encoded data removed]",
      "text/plain": [
       "<Figure size 640x480 with 1 Axes>"
      ]
     },
     "metadata": {},
     "output_type": "display_data"
    }
   ],
   "source": [
    "import matplotlib.pyplot as plt\n",
    "plt.scatter(X_test, Y_test, color=\"red\")\n",
    "plt.plot(X_train, lin_reg.predict(X_train), color=\"blue\" )\n",
    "plt.title(\"Height and Weight - Test Set\")\n",
    "plt.xlabel(\"Height\")\n",
    "plt.ylabel(\"Weight\")\n",
    "plt.show()"
   ]
  },
  {
   "cell_type": "markdown",
   "id": "d2927d1e",
   "metadata": {},
   "source": [
    "# Make new prediction"
   ]
  },
  {
   "cell_type": "code",
   "execution_count": 17,
   "id": "4f524684",
   "metadata": {},
   "outputs": [
    {
     "name": "stdout",
     "output_type": "stream",
     "text": [
      "If a person has weight 53, the predicted height is  [154.82434295]\n"
     ]
    }
   ],
   "source": [
    "lin_pred_new = lin_reg.predict([[53]])\n",
    "print('If a person has weight 53, the predicted height is ',lin_pred_new)"
   ]
  },
  {
   "cell_type": "markdown",
   "id": "b55e6131",
   "metadata": {},
   "source": [
    "# Conclusion"
   ]
  },
  {
   "cell_type": "markdown",
   "id": "c4b01757",
   "metadata": {},
   "source": [
    "The prediction we got from Linear Regression model is very good based on the R Squared and Mean Squared Error. \n",
    "So there is no need for us to try other regression models."
   ]
  },
  {
   "cell_type": "markdown",
   "id": "c5c57a04",
   "metadata": {},
   "source": [
    "# ***Finished simple project using Kaggle dataset.***"
   ]
  },
  {
   "cell_type": "code",
   "execution_count": null,
   "id": "413f3819",
   "metadata": {},
   "outputs": [],
   "source": []
  }
 ],
 "metadata": {
  "kernelspec": {
   "display_name": "Python 3 (ipykernel)",
   "language": "python",
   "name": "python3"
  },
  "language_info": {
   "codemirror_mode": {
    "name": "ipython",
    "version": 3
   },
   "file_extension": ".py",
   "mimetype": "text/x-python",
   "name": "python",
   "nbconvert_exporter": "python",
   "pygments_lexer": "ipython3",
   "version": "3.9.13"
  }
 },
 "nbformat": 4,
 "nbformat_minor": 5
}
